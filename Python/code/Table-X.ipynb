{
 "cells": [
  {
   "cell_type": "code",
   "execution_count": 1,
   "metadata": {},
   "outputs": [],
   "source": [
    "import utils, data, simulation\n",
    "import os\n",
    "import os.path as op\n",
    "import pandas as pd\n",
    "import numpy as  np\n",
    "import matplotlib.pyplot as plt\n",
    "%matplotlib inline"
   ]
  },
  {
   "cell_type": "code",
   "execution_count": 2,
   "metadata": {},
   "outputs": [],
   "source": [
    "checkAxon = True\n",
    "drawAllDist = False"
   ]
  },
  {
   "cell_type": "code",
   "execution_count": 3,
   "metadata": {},
   "outputs": [],
   "source": [
    "#where the data is\n",
    "datapath = os.environ['VISCOG_DATA']\n",
    "#folder containing scripts\n",
    "scriptpath = os.environ['SCRIPT_DATA']\n",
    "outpath = op.join(scriptpath, 'data')\n",
    "filename = 'S_12-005_12-104_13-101__collated_both_sessions.csv'\n",
    "\n",
    "\n",
    "processing = data.processing()\n",
    "(double_x2, catch, subjectdata) = processing.get_two_point(outpath, scriptpath, filename)"
   ]
  },
  {
   "cell_type": "code",
   "execution_count": 4,
   "metadata": {},
   "outputs": [],
   "source": [
    "#simulations = simulation.get_sims(subjectdata)\n",
    "subjects = subjectdata.index"
   ]
  },
  {
   "cell_type": "code",
   "execution_count": 5,
   "metadata": {},
   "outputs": [
    {
     "data": {
      "text/html": [
       "<div>\n",
       "<style scoped>\n",
       "    .dataframe tbody tr th:only-of-type {\n",
       "        vertical-align: middle;\n",
       "    }\n",
       "\n",
       "    .dataframe tbody tr th {\n",
       "        vertical-align: top;\n",
       "    }\n",
       "\n",
       "    .dataframe thead th {\n",
       "        text-align: right;\n",
       "    }\n",
       "</style>\n",
       "<table border=\"1\" class=\"dataframe\">\n",
       "  <thead>\n",
       "    <tr style=\"text-align: right;\">\n",
       "      <th></th>\n",
       "      <th>implant_rot</th>\n",
       "      <th>implant_type</th>\n",
       "      <th>implant_type_str</th>\n",
       "      <th>implant_x</th>\n",
       "      <th>implant_y</th>\n",
       "      <th>loc_od_x</th>\n",
       "      <th>loc_od_y</th>\n",
       "      <th>viscog_subject_id</th>\n",
       "      <th>xmax</th>\n",
       "      <th>xmin</th>\n",
       "      <th>ymax</th>\n",
       "      <th>ymin</th>\n",
       "      <th>eye</th>\n",
       "      <th>session</th>\n",
       "      <th>rho</th>\n",
       "      <th>lambda</th>\n",
       "      <th>scale</th>\n",
       "    </tr>\n",
       "    <tr>\n",
       "      <th>subject_id</th>\n",
       "      <th></th>\n",
       "      <th></th>\n",
       "      <th></th>\n",
       "      <th></th>\n",
       "      <th></th>\n",
       "      <th></th>\n",
       "      <th></th>\n",
       "      <th></th>\n",
       "      <th></th>\n",
       "      <th></th>\n",
       "      <th></th>\n",
       "      <th></th>\n",
       "      <th></th>\n",
       "      <th></th>\n",
       "      <th></th>\n",
       "      <th></th>\n",
       "      <th></th>\n",
       "    </tr>\n",
       "  </thead>\n",
       "  <tbody>\n",
       "    <tr>\n",
       "      <th>12-005</th>\n",
       "      <td>-0.49500</td>\n",
       "      <td>&lt;class 'pulse2percept.implants.ArgusII'&gt;</td>\n",
       "      <td>ArgusII</td>\n",
       "      <td>-1331.0000</td>\n",
       "      <td>-850.0000</td>\n",
       "      <td>16.200000</td>\n",
       "      <td>1.380000</td>\n",
       "      <td>NaN</td>\n",
       "      <td>30.0</td>\n",
       "      <td>-30.0</td>\n",
       "      <td>22.5</td>\n",
       "      <td>-22.5</td>\n",
       "      <td>RE</td>\n",
       "      <td>2019_05_29</td>\n",
       "      <td>315.00</td>\n",
       "      <td>500.0</td>\n",
       "      <td>0.5</td>\n",
       "    </tr>\n",
       "    <tr>\n",
       "      <th>12-104</th>\n",
       "      <td>-0.35500</td>\n",
       "      <td>&lt;class 'pulse2percept.implants.ArgusII'&gt;</td>\n",
       "      <td>ArgusII</td>\n",
       "      <td>-515.0000</td>\n",
       "      <td>108.0000</td>\n",
       "      <td>18.500000</td>\n",
       "      <td>2.620000</td>\n",
       "      <td>NaN</td>\n",
       "      <td>30.0</td>\n",
       "      <td>-30.0</td>\n",
       "      <td>22.5</td>\n",
       "      <td>-22.5</td>\n",
       "      <td>RE</td>\n",
       "      <td>2019_05_30</td>\n",
       "      <td>1887.69</td>\n",
       "      <td>10.0</td>\n",
       "      <td>0.5</td>\n",
       "    </tr>\n",
       "    <tr>\n",
       "      <th>13-101</th>\n",
       "      <td>-0.67358</td>\n",
       "      <td>&lt;class 'pulse2percept.implants.ArgusII'&gt;</td>\n",
       "      <td>ArgusII</td>\n",
       "      <td>-965.1227</td>\n",
       "      <td>429.0195</td>\n",
       "      <td>15.055678</td>\n",
       "      <td>1.821214</td>\n",
       "      <td>NaN</td>\n",
       "      <td>30.0</td>\n",
       "      <td>-30.0</td>\n",
       "      <td>22.5</td>\n",
       "      <td>-22.5</td>\n",
       "      <td>RE</td>\n",
       "      <td>2019_05_31</td>\n",
       "      <td>1127.00</td>\n",
       "      <td>717.0</td>\n",
       "      <td>0.5</td>\n",
       "    </tr>\n",
       "  </tbody>\n",
       "</table>\n",
       "</div>"
      ],
      "text/plain": [
       "            implant_rot                              implant_type  \\\n",
       "subject_id                                                          \n",
       "12-005         -0.49500  <class 'pulse2percept.implants.ArgusII'>   \n",
       "12-104         -0.35500  <class 'pulse2percept.implants.ArgusII'>   \n",
       "13-101         -0.67358  <class 'pulse2percept.implants.ArgusII'>   \n",
       "\n",
       "           implant_type_str  implant_x  implant_y   loc_od_x  loc_od_y  \\\n",
       "subject_id                                                               \n",
       "12-005              ArgusII -1331.0000  -850.0000  16.200000  1.380000   \n",
       "12-104              ArgusII  -515.0000   108.0000  18.500000  2.620000   \n",
       "13-101              ArgusII  -965.1227   429.0195  15.055678  1.821214   \n",
       "\n",
       "           viscog_subject_id  xmax  xmin  ymax  ymin eye     session      rho  \\\n",
       "subject_id                                                                      \n",
       "12-005                   NaN  30.0 -30.0  22.5 -22.5  RE  2019_05_29   315.00   \n",
       "12-104                   NaN  30.0 -30.0  22.5 -22.5  RE  2019_05_30  1887.69   \n",
       "13-101                   NaN  30.0 -30.0  22.5 -22.5  RE  2019_05_31  1127.00   \n",
       "\n",
       "            lambda  scale  \n",
       "subject_id                 \n",
       "12-005       500.0    0.5  \n",
       "12-104        10.0    0.5  \n",
       "13-101       717.0    0.5  "
      ]
     },
     "execution_count": 5,
     "metadata": {},
     "output_type": "execute_result"
    }
   ],
   "source": [
    "subjectdata"
   ]
  },
  {
   "cell_type": "markdown",
   "metadata": {},
   "source": [
    "## Checking for cases where people report more than 2"
   ]
  },
  {
   "cell_type": "code",
   "execution_count": 6,
   "metadata": {},
   "outputs": [
    {
     "name": "stdout",
     "output_type": "stream",
     "text": [
      "No number is added for file /mnt/viscog/FineLab/Data/12-005/2019_10_09/drawings_filled/drawings_double/30_12-005_A02F02_2019-11-19_13-17-57.png\n",
      ", \n",
      " could you fix this problem by looking at description \n",
      " 2 shapes. the shapes were not solid- pixellated. shapes are about the same size?2\n"
     ]
    },
    {
     "name": "stderr",
     "output_type": "stream",
     "text": [
      "You are adding the integer  2\n"
     ]
    },
    {
     "name": "stdout",
     "output_type": "stream",
     "text": [
      "2\n",
      "There is a string instead of a number,\n",
      "Please fix lower right one was weaker than the top left one\n",
      "Description is: 22\n"
     ]
    },
    {
     "name": "stderr",
     "output_type": "stream",
     "text": [
      "You are adding the integer  2\n"
     ]
    },
    {
     "name": "stdout",
     "output_type": "stream",
     "text": [
      "2\n",
      "No number is added for file /mnt/viscog/FineLab/Data/12-005/2019_10_09/drawings_filled/drawings_double/48_12-005_E10F07_2019-11-19_13-31-06.png\n",
      ", \n",
      " could you fix this problem by looking at description \n",
      " 1 flash. cannot see the edges?1\n"
     ]
    },
    {
     "name": "stderr",
     "output_type": "stream",
     "text": [
      "You are adding the integer  1\n"
     ]
    },
    {
     "name": "stdout",
     "output_type": "stream",
     "text": [
      "1\n",
      "There is a string instead of a number,\n",
      "Please fix bottom one is slightly to the left and double the size\n",
      "Description is: nan2\n"
     ]
    },
    {
     "name": "stderr",
     "output_type": "stream",
     "text": [
      "You are adding the integer  2\n"
     ]
    },
    {
     "name": "stdout",
     "output_type": "stream",
     "text": [
      "2\n",
      "No number is added for file /mnt/viscog/FineLab/Data/12-005/2019_10_09/drawings_filled/drawings_double/107_12-005_A04B06_2019-11-19_14-12-46.png\n",
      ", \n",
      " could you fix this problem by looking at description \n",
      " 1 big flash?1\n"
     ]
    },
    {
     "name": "stderr",
     "output_type": "stream",
     "text": [
      "You are adding the integer  1\n"
     ]
    },
    {
     "name": "stdout",
     "output_type": "stream",
     "text": [
      "1\n",
      "No number is added for file /mnt/viscog/FineLab/Data/12-104/2019_10_08/drawings_filled/drawings_double/05_12-104_F07B05_2019-10-31_17-23-35.png\n",
      ", \n",
      " could you fix this problem by looking at description \n",
      " bowl in the bottom middle- not as certain?1\n"
     ]
    },
    {
     "name": "stderr",
     "output_type": "stream",
     "text": [
      "You are adding the integer  1\n"
     ]
    },
    {
     "name": "stdout",
     "output_type": "stream",
     "text": [
      "1\n"
     ]
    }
   ],
   "source": [
    "# we initially process reported number of shapes to account for strings and floats\n",
    "double_x2['no_of_3s'] = double_x2.apply(processing.process_ptsnumber_in_double, change23=False, axis =1)"
   ]
  },
  {
   "cell_type": "code",
   "execution_count": 7,
   "metadata": {},
   "outputs": [
    {
     "data": {
      "text/plain": [
       "Text(0.5, 0, 'Reported Number of Percepts')"
      ]
     },
     "execution_count": 7,
     "metadata": {},
     "output_type": "execute_result"
    },
    {
     "data": {
      "image/png": "[encoded data removed]",
      "text/plain": [
       "<Figure size 432x288 with 1 Axes>"
      ]
     },
     "metadata": {
      "needs_background": "light"
     },
     "output_type": "display_data"
    }
   ],
   "source": [
    "plt.hist(double_x2['no_of_3s'])\n",
    "plt.xlabel('Reported Number of Percepts')"
   ]
  },
  {
   "cell_type": "code",
   "execution_count": 8,
   "metadata": {},
   "outputs": [
    {
     "data": {
      "text/plain": [
       "subject_id  no_of_3s\n",
       "12-005      2           114\n",
       "            1            66\n",
       "12-104      1            29\n",
       "            2            20\n",
       "            3             3\n",
       "            0             2\n",
       "13-101      2            67\n",
       "            1            38\n",
       "Name: no_of_3s, dtype: int64"
      ]
     },
     "execution_count": 8,
     "metadata": {},
     "output_type": "execute_result"
    }
   ],
   "source": [
    "double_x2.groupby('subject_id')['no_of_3s'].value_counts()"
   ]
  },
  {
   "cell_type": "code",
   "execution_count": 9,
   "metadata": {},
   "outputs": [
    {
     "data": {
      "text/plain": [
       "2    0.59292\n",
       "1    0.39233\n",
       "3    0.00885\n",
       "0    0.00590\n",
       "Name: no_of_3s, dtype: float64"
      ]
     },
     "execution_count": 9,
     "metadata": {},
     "output_type": "execute_result"
    }
   ],
   "source": [
    "proportion = double_x2['no_of_3s'].value_counts()/len(double_x2)\n",
    "proportion"
   ]
  },
  {
   "cell_type": "code",
   "execution_count": 10,
   "metadata": {},
   "outputs": [
    {
     "data": {
      "text/plain": [
       "0.014749262536873156"
      ]
     },
     "execution_count": 10,
     "metadata": {},
     "output_type": "execute_result"
    }
   ],
   "source": [
    "proportion[3]+proportion[0]"
   ]
  }
 ],
 "metadata": {
  "kernelspec": {
   "display_name": "Python 3",
   "language": "python",
   "name": "python3"
  },
  "language_info": {
   "codemirror_mode": {
    "name": "ipython",
    "version": 3
   },
   "file_extension": ".py",
   "mimetype": "text/x-python",
   "name": "python",
   "nbconvert_exporter": "python",
   "pygments_lexer": "ipython3",
   "version": "3.8.5"
  }
 },
 "nbformat": 4,
 "nbformat_minor": 4
}
